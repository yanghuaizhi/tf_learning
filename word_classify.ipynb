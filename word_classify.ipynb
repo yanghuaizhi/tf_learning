{
  "nbformat": 4,
  "nbformat_minor": 0,
  "metadata": {
    "colab": {
      "name": "word classify.ipynb",
      "version": "0.3.2",
      "provenance": [],
      "include_colab_link": true
    },
    "kernelspec": {
      "name": "python3",
      "display_name": "Python 3"
    }
  },
  "cells": [
    {
      "cell_type": "markdown",
      "metadata": {
        "id": "view-in-github",
        "colab_type": "text"
      },
      "source": [
        "<a href=\"https://colab.research.google.com/github/yanghuaizhi/tf_learning/blob/master/word_classify.ipynb\" target=\"_parent\"><img src=\"https://colab.research.google.com/assets/colab-badge.svg\" alt=\"Open In Colab\"/></a>"
      ]
    },
    {
      "metadata": {
        "id": "MFio6s4BgY04",
        "colab_type": "code",
        "colab": {
          "base_uri": "https://localhost:8080/",
          "height": 34
        },
        "outputId": "360b3db0-c8fc-46bf-853c-dfa873d43b85"
      },
      "cell_type": "code",
      "source": [
        "from __future__ import absolute_import, division, print_function\n",
        "\n",
        "import tensorflow as tf\n",
        "from tensorflow import keras\n",
        "\n",
        "import numpy as np\n",
        "\n",
        "print(tf.__version__)"
      ],
      "execution_count": 1,
      "outputs": [
        {
          "output_type": "stream",
          "text": [
            "2.0.0-alpha0\n"
          ],
          "name": "stdout"
        }
      ]
    },
    {
      "metadata": {
        "id": "WVx2GqcBgkwb",
        "colab_type": "code",
        "colab": {
          "base_uri": "https://localhost:8080/",
          "height": 51
        },
        "outputId": "6462882f-33e2-47b5-8e02-0ec87251b8e7"
      },
      "cell_type": "code",
      "source": [
        "imdb = keras.datasets.imdb\n",
        "\n",
        "(train_data, train_labels), (test_data, test_labels) = imdb.load_data(num_words=10000)"
      ],
      "execution_count": 2,
      "outputs": [
        {
          "output_type": "stream",
          "text": [
            "Downloading data from https://storage.googleapis.com/tensorflow/tf-keras-datasets/imdb.npz\n",
            "17465344/17464789 [==============================] - 0s 0us/step\n"
          ],
          "name": "stdout"
        }
      ]
    },
    {
      "metadata": {
        "id": "08StOZwggkvM",
        "colab_type": "code",
        "colab": {
          "base_uri": "https://localhost:8080/",
          "height": 34
        },
        "outputId": "7cfdb35c-1a49-42ba-e8f4-ee6c6bf6e703"
      },
      "cell_type": "code",
      "source": [
        "print(\"Training entries: {}, labels: {}\".format(len(train_data), len(train_labels)))"
      ],
      "execution_count": 3,
      "outputs": [
        {
          "output_type": "stream",
          "text": [
            "Training entries: 25000, labels: 25000\n"
          ],
          "name": "stdout"
        }
      ]
    },
    {
      "metadata": {
        "id": "qYc8Iyvpgx25",
        "colab_type": "code",
        "colab": {
          "base_uri": "https://localhost:8080/",
          "height": 54
        },
        "outputId": "9223ca1d-edbd-47b6-ddf3-3fe2a8fb44b7"
      },
      "cell_type": "code",
      "source": [
        "print(train_data[0])"
      ],
      "execution_count": 4,
      "outputs": [
        {
          "output_type": "stream",
          "text": [
            "[1, 14, 22, 16, 43, 530, 973, 1622, 1385, 65, 458, 4468, 66, 3941, 4, 173, 36, 256, 5, 25, 100, 43, 838, 112, 50, 670, 2, 9, 35, 480, 284, 5, 150, 4, 172, 112, 167, 2, 336, 385, 39, 4, 172, 4536, 1111, 17, 546, 38, 13, 447, 4, 192, 50, 16, 6, 147, 2025, 19, 14, 22, 4, 1920, 4613, 469, 4, 22, 71, 87, 12, 16, 43, 530, 38, 76, 15, 13, 1247, 4, 22, 17, 515, 17, 12, 16, 626, 18, 2, 5, 62, 386, 12, 8, 316, 8, 106, 5, 4, 2223, 5244, 16, 480, 66, 3785, 33, 4, 130, 12, 16, 38, 619, 5, 25, 124, 51, 36, 135, 48, 25, 1415, 33, 6, 22, 12, 215, 28, 77, 52, 5, 14, 407, 16, 82, 2, 8, 4, 107, 117, 5952, 15, 256, 4, 2, 7, 3766, 5, 723, 36, 71, 43, 530, 476, 26, 400, 317, 46, 7, 4, 2, 1029, 13, 104, 88, 4, 381, 15, 297, 98, 32, 2071, 56, 26, 141, 6, 194, 7486, 18, 4, 226, 22, 21, 134, 476, 26, 480, 5, 144, 30, 5535, 18, 51, 36, 28, 224, 92, 25, 104, 4, 226, 65, 16, 38, 1334, 88, 12, 16, 283, 5, 16, 4472, 113, 103, 32, 15, 16, 5345, 19, 178, 32]\n"
          ],
          "name": "stdout"
        }
      ]
    },
    {
      "metadata": {
        "id": "VSckc5XchGRf",
        "colab_type": "code",
        "colab": {
          "base_uri": "https://localhost:8080/",
          "height": 34
        },
        "outputId": "1812581f-3e38-4bf5-8819-985b4761fbe8"
      },
      "cell_type": "code",
      "source": [
        "len(train_data[0]), len(train_data[1])"
      ],
      "execution_count": 5,
      "outputs": [
        {
          "output_type": "execute_result",
          "data": {
            "text/plain": [
              "(218, 189)"
            ]
          },
          "metadata": {
            "tags": []
          },
          "execution_count": 5
        }
      ]
    },
    {
      "metadata": {
        "id": "edvNMu0ZhPEF",
        "colab_type": "code",
        "colab": {
          "base_uri": "https://localhost:8080/",
          "height": 51
        },
        "outputId": "9920e335-21d1-4ad0-b86d-05f66809f839"
      },
      "cell_type": "code",
      "source": [
        "# A dictionary mapping words to an integer index\n",
        "word_index = imdb.get_word_index()\n",
        "\n",
        "# The first indices are reserved\n",
        "word_index = {k:(v+3) for k,v in word_index.items()} \n",
        "word_index[\"<PAD>\"] = 0\n",
        "word_index[\"<START>\"] = 1\n",
        "word_index[\"<UNK>\"] = 2  # unknown\n",
        "word_index[\"<UNUSED>\"] = 3\n",
        "\n",
        "reverse_word_index = dict([(value, key) for (key, value) in word_index.items()])\n",
        "\n",
        "def decode_review(text):\n",
        "    return ' '.join([reverse_word_index.get(i, '?') for i in text])"
      ],
      "execution_count": 6,
      "outputs": [
        {
          "output_type": "stream",
          "text": [
            "Downloading data from https://storage.googleapis.com/tensorflow/tf-keras-datasets/imdb_word_index.json\n",
            "1646592/1641221 [==============================] - 0s 0us/step\n"
          ],
          "name": "stdout"
        }
      ]
    },
    {
      "metadata": {
        "id": "eBLzEUMchPGb",
        "colab_type": "code",
        "colab": {
          "base_uri": "https://localhost:8080/",
          "height": 54
        },
        "outputId": "c6825556-6907-4aba-8264-50769fdaaccd"
      },
      "cell_type": "code",
      "source": [
        "decode_review(train_data[0])"
      ],
      "execution_count": 7,
      "outputs": [
        {
          "output_type": "execute_result",
          "data": {
            "text/plain": [
              "\"<START> this film was just brilliant casting location scenery story direction everyone's really suited the part they played and you could just imagine being there robert <UNK> is an amazing actor and now the same being director <UNK> father came from the same scottish island as myself so i loved the fact there was a real connection with this film the witty remarks throughout the film were great it was just brilliant so much that i bought the film as soon as it was released for <UNK> and would recommend it to everyone to watch and the fly fishing was amazing really cried at the end it was so sad and you know what they say if you cry at a film it must have been good and this definitely was also <UNK> to the two little boy's that played the <UNK> of norman and paul they were just brilliant children are often left out of the <UNK> list i think because the stars that play them all grown up are such a big profile for the whole film but these children are amazing and should be praised for what they have done don't you think the whole story was so lovely because it was true and was someone's life after all that was shared with us all\""
            ]
          },
          "metadata": {
            "tags": []
          },
          "execution_count": 7
        }
      ]
    },
    {
      "metadata": {
        "id": "iQ8lj71RhdAA",
        "colab_type": "code",
        "colab": {}
      },
      "cell_type": "code",
      "source": [
        "train_data = keras.preprocessing.sequence.pad_sequences(train_data,\n",
        "                                                        value=word_index[\"<PAD>\"],\n",
        "                                                        padding='post',\n",
        "                                                        maxlen=256)\n",
        "\n",
        "test_data = keras.preprocessing.sequence.pad_sequences(test_data,\n",
        "                                                       value=word_index[\"<PAD>\"],\n",
        "                                                       padding='post',\n",
        "                                                       maxlen=256)"
      ],
      "execution_count": 0,
      "outputs": []
    },
    {
      "metadata": {
        "id": "ANouuhD6hiBe",
        "colab_type": "code",
        "colab": {
          "base_uri": "https://localhost:8080/",
          "height": 34
        },
        "outputId": "8248579f-1fe2-41f1-c9ba-c4a35be3c8f8"
      },
      "cell_type": "code",
      "source": [
        "len(train_data[0]), len(train_data[1])"
      ],
      "execution_count": 9,
      "outputs": [
        {
          "output_type": "execute_result",
          "data": {
            "text/plain": [
              "(256, 256)"
            ]
          },
          "metadata": {
            "tags": []
          },
          "execution_count": 9
        }
      ]
    },
    {
      "metadata": {
        "id": "h_ng0gbJhlI6",
        "colab_type": "code",
        "colab": {
          "base_uri": "https://localhost:8080/",
          "height": 340
        },
        "outputId": "c1eeb462-0a6a-486b-8225-4491a0efa411"
      },
      "cell_type": "code",
      "source": [
        "print(train_data[0])"
      ],
      "execution_count": 10,
      "outputs": [
        {
          "output_type": "stream",
          "text": [
            "[   1   14   22   16   43  530  973 1622 1385   65  458 4468   66 3941\n",
            "    4  173   36  256    5   25  100   43  838  112   50  670    2    9\n",
            "   35  480  284    5  150    4  172  112  167    2  336  385   39    4\n",
            "  172 4536 1111   17  546   38   13  447    4  192   50   16    6  147\n",
            " 2025   19   14   22    4 1920 4613  469    4   22   71   87   12   16\n",
            "   43  530   38   76   15   13 1247    4   22   17  515   17   12   16\n",
            "  626   18    2    5   62  386   12    8  316    8  106    5    4 2223\n",
            " 5244   16  480   66 3785   33    4  130   12   16   38  619    5   25\n",
            "  124   51   36  135   48   25 1415   33    6   22   12  215   28   77\n",
            "   52    5   14  407   16   82    2    8    4  107  117 5952   15  256\n",
            "    4    2    7 3766    5  723   36   71   43  530  476   26  400  317\n",
            "   46    7    4    2 1029   13  104   88    4  381   15  297   98   32\n",
            " 2071   56   26  141    6  194 7486   18    4  226   22   21  134  476\n",
            "   26  480    5  144   30 5535   18   51   36   28  224   92   25  104\n",
            "    4  226   65   16   38 1334   88   12   16  283    5   16 4472  113\n",
            "  103   32   15   16 5345   19  178   32    0    0    0    0    0    0\n",
            "    0    0    0    0    0    0    0    0    0    0    0    0    0    0\n",
            "    0    0    0    0    0    0    0    0    0    0    0    0    0    0\n",
            "    0    0    0    0]\n"
          ],
          "name": "stdout"
        }
      ]
    },
    {
      "metadata": {
        "id": "ecdhMzkFhlHr",
        "colab_type": "code",
        "colab": {
          "base_uri": "https://localhost:8080/",
          "height": 289
        },
        "outputId": "7327987f-4524-4c70-841f-806533ab9c38"
      },
      "cell_type": "code",
      "source": [
        "# input shape is the vocabulary count used for the movie reviews (10,000 words)\n",
        "vocab_size = 10000\n",
        "\n",
        "model = keras.Sequential()\n",
        "model.add(keras.layers.Embedding(vocab_size, 16))\n",
        "model.add(keras.layers.GlobalAveragePooling1D())\n",
        "model.add(keras.layers.Dense(16, activation='relu'))\n",
        "model.add(keras.layers.Dense(1, activation='sigmoid'))\n",
        "\n",
        "model.summary()"
      ],
      "execution_count": 11,
      "outputs": [
        {
          "output_type": "stream",
          "text": [
            "Model: \"sequential\"\n",
            "_________________________________________________________________\n",
            "Layer (type)                 Output Shape              Param #   \n",
            "=================================================================\n",
            "embedding (Embedding)        (None, None, 16)          160000    \n",
            "_________________________________________________________________\n",
            "global_average_pooling1d (Gl (None, 16)                0         \n",
            "_________________________________________________________________\n",
            "dense (Dense)                (None, 16)                272       \n",
            "_________________________________________________________________\n",
            "dense_1 (Dense)              (None, 1)                 17        \n",
            "=================================================================\n",
            "Total params: 160,289\n",
            "Trainable params: 160,289\n",
            "Non-trainable params: 0\n",
            "_________________________________________________________________\n"
          ],
          "name": "stdout"
        }
      ]
    },
    {
      "metadata": {
        "id": "h9af0rByh1Re",
        "colab_type": "code",
        "colab": {}
      },
      "cell_type": "code",
      "source": [
        "model.compile(optimizer='adam',\n",
        "              loss='binary_crossentropy',\n",
        "              metrics=['accuracy'])"
      ],
      "execution_count": 0,
      "outputs": []
    },
    {
      "metadata": {
        "id": "rqn0JxsOh3xZ",
        "colab_type": "code",
        "colab": {}
      },
      "cell_type": "code",
      "source": [
        "x_val = train_data[:10000]\n",
        "partial_x_train = train_data[10000:]\n",
        "\n",
        "y_val = train_labels[:10000]\n",
        "partial_y_train = train_labels[10000:]"
      ],
      "execution_count": 0,
      "outputs": []
    },
    {
      "metadata": {
        "id": "o7ShXetNh6dU",
        "colab_type": "code",
        "colab": {
          "base_uri": "https://localhost:8080/",
          "height": 1394
        },
        "outputId": "cb557539-900c-4fe9-a286-447a737aac43"
      },
      "cell_type": "code",
      "source": [
        "history = model.fit(partial_x_train,\n",
        "                    partial_y_train,\n",
        "                    epochs=40,\n",
        "                    batch_size=512,\n",
        "                    validation_data=(x_val, y_val),\n",
        "                    verbose=1)"
      ],
      "execution_count": 14,
      "outputs": [
        {
          "output_type": "stream",
          "text": [
            "Train on 15000 samples, validate on 10000 samples\n",
            "Epoch 1/40\n",
            "15000/15000 [==============================] - 1s 85us/sample - loss: 0.6919 - accuracy: 0.5301 - val_loss: 0.6901 - val_accuracy: 0.5853\n",
            "Epoch 2/40\n",
            "15000/15000 [==============================] - 1s 57us/sample - loss: 0.6865 - accuracy: 0.6693 - val_loss: 0.6828 - val_accuracy: 0.6964\n",
            "Epoch 3/40\n",
            "15000/15000 [==============================] - 1s 57us/sample - loss: 0.6749 - accuracy: 0.7307 - val_loss: 0.6681 - val_accuracy: 0.7508\n",
            "Epoch 4/40\n",
            "15000/15000 [==============================] - 1s 58us/sample - loss: 0.6545 - accuracy: 0.7461 - val_loss: 0.6447 - val_accuracy: 0.7617\n",
            "Epoch 5/40\n",
            "15000/15000 [==============================] - 1s 58us/sample - loss: 0.6229 - accuracy: 0.7852 - val_loss: 0.6104 - val_accuracy: 0.7823\n",
            "Epoch 6/40\n",
            "15000/15000 [==============================] - 1s 58us/sample - loss: 0.5811 - accuracy: 0.8056 - val_loss: 0.5698 - val_accuracy: 0.7972\n",
            "Epoch 7/40\n",
            "15000/15000 [==============================] - 1s 58us/sample - loss: 0.5337 - accuracy: 0.8235 - val_loss: 0.5252 - val_accuracy: 0.8183\n",
            "Epoch 8/40\n",
            "15000/15000 [==============================] - 1s 57us/sample - loss: 0.4859 - accuracy: 0.8428 - val_loss: 0.4836 - val_accuracy: 0.8308\n",
            "Epoch 9/40\n",
            "15000/15000 [==============================] - 1s 58us/sample - loss: 0.4413 - accuracy: 0.8581 - val_loss: 0.4460 - val_accuracy: 0.8418\n",
            "Epoch 10/40\n",
            "15000/15000 [==============================] - 1s 58us/sample - loss: 0.4018 - accuracy: 0.8713 - val_loss: 0.4150 - val_accuracy: 0.8501\n",
            "Epoch 11/40\n",
            "15000/15000 [==============================] - 1s 57us/sample - loss: 0.3684 - accuracy: 0.8799 - val_loss: 0.3892 - val_accuracy: 0.8580\n",
            "Epoch 12/40\n",
            "15000/15000 [==============================] - 1s 57us/sample - loss: 0.3403 - accuracy: 0.8876 - val_loss: 0.3696 - val_accuracy: 0.8615\n",
            "Epoch 13/40\n",
            "15000/15000 [==============================] - 1s 57us/sample - loss: 0.3173 - accuracy: 0.8940 - val_loss: 0.3522 - val_accuracy: 0.8674\n",
            "Epoch 14/40\n",
            "15000/15000 [==============================] - 1s 57us/sample - loss: 0.2967 - accuracy: 0.8991 - val_loss: 0.3395 - val_accuracy: 0.8720\n",
            "Epoch 15/40\n",
            "15000/15000 [==============================] - 1s 57us/sample - loss: 0.2795 - accuracy: 0.9047 - val_loss: 0.3288 - val_accuracy: 0.8733\n",
            "Epoch 16/40\n",
            "15000/15000 [==============================] - 1s 58us/sample - loss: 0.2641 - accuracy: 0.9098 - val_loss: 0.3201 - val_accuracy: 0.8747\n",
            "Epoch 17/40\n",
            "15000/15000 [==============================] - 1s 57us/sample - loss: 0.2499 - accuracy: 0.9150 - val_loss: 0.3128 - val_accuracy: 0.8782\n",
            "Epoch 18/40\n",
            "15000/15000 [==============================] - 1s 57us/sample - loss: 0.2374 - accuracy: 0.9189 - val_loss: 0.3064 - val_accuracy: 0.8798\n",
            "Epoch 19/40\n",
            "15000/15000 [==============================] - 1s 58us/sample - loss: 0.2261 - accuracy: 0.9214 - val_loss: 0.3012 - val_accuracy: 0.8807\n",
            "Epoch 20/40\n",
            "15000/15000 [==============================] - 1s 57us/sample - loss: 0.2159 - accuracy: 0.9250 - val_loss: 0.2976 - val_accuracy: 0.8815\n",
            "Epoch 21/40\n",
            "15000/15000 [==============================] - 1s 57us/sample - loss: 0.2055 - accuracy: 0.9302 - val_loss: 0.2945 - val_accuracy: 0.8826\n",
            "Epoch 22/40\n",
            "15000/15000 [==============================] - 1s 57us/sample - loss: 0.1969 - accuracy: 0.9327 - val_loss: 0.2915 - val_accuracy: 0.8845\n",
            "Epoch 23/40\n",
            "15000/15000 [==============================] - 1s 57us/sample - loss: 0.1881 - accuracy: 0.9372 - val_loss: 0.2903 - val_accuracy: 0.8832\n",
            "Epoch 24/40\n",
            "15000/15000 [==============================] - 1s 57us/sample - loss: 0.1805 - accuracy: 0.9405 - val_loss: 0.2885 - val_accuracy: 0.8846\n",
            "Epoch 25/40\n",
            "15000/15000 [==============================] - 1s 57us/sample - loss: 0.1728 - accuracy: 0.9446 - val_loss: 0.2867 - val_accuracy: 0.8843\n",
            "Epoch 26/40\n",
            "15000/15000 [==============================] - 1s 58us/sample - loss: 0.1659 - accuracy: 0.9469 - val_loss: 0.2871 - val_accuracy: 0.8833\n",
            "Epoch 27/40\n",
            "15000/15000 [==============================] - 1s 58us/sample - loss: 0.1593 - accuracy: 0.9499 - val_loss: 0.2864 - val_accuracy: 0.8844\n",
            "Epoch 28/40\n",
            "15000/15000 [==============================] - 1s 58us/sample - loss: 0.1531 - accuracy: 0.9526 - val_loss: 0.2867 - val_accuracy: 0.8850\n",
            "Epoch 29/40\n",
            "15000/15000 [==============================] - 1s 58us/sample - loss: 0.1476 - accuracy: 0.9559 - val_loss: 0.2879 - val_accuracy: 0.8840\n",
            "Epoch 30/40\n",
            "15000/15000 [==============================] - 1s 58us/sample - loss: 0.1419 - accuracy: 0.9570 - val_loss: 0.2872 - val_accuracy: 0.8862\n",
            "Epoch 31/40\n",
            "15000/15000 [==============================] - 1s 58us/sample - loss: 0.1360 - accuracy: 0.9603 - val_loss: 0.2880 - val_accuracy: 0.8868\n",
            "Epoch 32/40\n",
            "15000/15000 [==============================] - 1s 57us/sample - loss: 0.1308 - accuracy: 0.9620 - val_loss: 0.2892 - val_accuracy: 0.8866\n",
            "Epoch 33/40\n",
            "15000/15000 [==============================] - 1s 56us/sample - loss: 0.1257 - accuracy: 0.9638 - val_loss: 0.2913 - val_accuracy: 0.8862\n",
            "Epoch 34/40\n",
            "15000/15000 [==============================] - 1s 58us/sample - loss: 0.1212 - accuracy: 0.9655 - val_loss: 0.2932 - val_accuracy: 0.8858\n",
            "Epoch 35/40\n",
            "15000/15000 [==============================] - 1s 56us/sample - loss: 0.1171 - accuracy: 0.9663 - val_loss: 0.2953 - val_accuracy: 0.8864\n",
            "Epoch 36/40\n",
            "15000/15000 [==============================] - 1s 56us/sample - loss: 0.1125 - accuracy: 0.9691 - val_loss: 0.2969 - val_accuracy: 0.8850\n",
            "Epoch 37/40\n",
            "15000/15000 [==============================] - 1s 57us/sample - loss: 0.1082 - accuracy: 0.9699 - val_loss: 0.2994 - val_accuracy: 0.8847\n",
            "Epoch 38/40\n",
            "15000/15000 [==============================] - 1s 57us/sample - loss: 0.1042 - accuracy: 0.9713 - val_loss: 0.3026 - val_accuracy: 0.8827\n",
            "Epoch 39/40\n",
            "15000/15000 [==============================] - 1s 58us/sample - loss: 0.1010 - accuracy: 0.9724 - val_loss: 0.3060 - val_accuracy: 0.8827\n",
            "Epoch 40/40\n",
            "15000/15000 [==============================] - 1s 58us/sample - loss: 0.0968 - accuracy: 0.9745 - val_loss: 0.3085 - val_accuracy: 0.8834\n"
          ],
          "name": "stdout"
        }
      ]
    },
    {
      "metadata": {
        "id": "aqPqrDnMiIxE",
        "colab_type": "code",
        "colab": {
          "base_uri": "https://localhost:8080/",
          "height": 51
        },
        "outputId": "a07fdba4-8c0a-4f7d-9e3b-b35c9ed68c4a"
      },
      "cell_type": "code",
      "source": [
        "results = model.evaluate(test_data, test_labels)\n",
        "\n",
        "print(results)"
      ],
      "execution_count": 15,
      "outputs": [
        {
          "output_type": "stream",
          "text": [
            "25000/25000 [==============================] - 1s 37us/sample - loss: 0.3292 - accuracy: 0.8718\n",
            "[0.3291623979330063, 0.87184]\n"
          ],
          "name": "stdout"
        }
      ]
    },
    {
      "metadata": {
        "id": "mnnYIlweiOWm",
        "colab_type": "code",
        "colab": {
          "base_uri": "https://localhost:8080/",
          "height": 34
        },
        "outputId": "2751a5bd-bd41-4e96-a51b-25f6df47f827"
      },
      "cell_type": "code",
      "source": [
        "history_dict = history.history\n",
        "history_dict.keys()"
      ],
      "execution_count": 16,
      "outputs": [
        {
          "output_type": "execute_result",
          "data": {
            "text/plain": [
              "dict_keys(['loss', 'accuracy', 'val_loss', 'val_accuracy'])"
            ]
          },
          "metadata": {
            "tags": []
          },
          "execution_count": 16
        }
      ]
    },
    {
      "metadata": {
        "id": "UEqieUO3iOU9",
        "colab_type": "code",
        "colab": {
          "base_uri": "https://localhost:8080/",
          "height": 376
        },
        "outputId": "70ed9b24-6b06-4b21-8be7-2eb29a2e4a2c"
      },
      "cell_type": "code",
      "source": [
        "import matplotlib.pyplot as plt\n",
        "\n",
        "acc = history_dict['accuracy']\n",
        "val_acc = history_dict['val_accuracy']\n",
        "loss = history_dict['loss']\n",
        "val_loss = history_dict['val_loss']\n",
        "\n",
        "epochs = range(1, len(acc) + 1)\n",
        "\n",
        "# \"bo\" is for \"blue dot\"\n",
        "plt.plot(epochs, loss, 'bo', label='Training loss')\n",
        "# b is for \"solid blue line\"\n",
        "plt.plot(epochs, val_loss, 'b', label='Validation loss')\n",
        "plt.title('Training and validation loss')\n",
        "plt.xlabel('Epochs')\n",
        "plt.ylabel('Loss')\n",
        "plt.legend()\n",
        "\n",
        "plt.show()"
      ],
      "execution_count": 17,
      "outputs": [
        {
          "output_type": "display_data",
          "data": {
            "image/png": "[encoded data removed]",
            "text/plain": [
              "<Figure size 576x396 with 1 Axes>"
            ]
          },
          "metadata": {
            "tags": []
          }
        }
      ]
    },
    {
      "metadata": {
        "id": "uxvnnV3FieET",
        "colab_type": "code",
        "colab": {
          "base_uri": "https://localhost:8080/",
          "height": 376
        },
        "outputId": "73eb41cb-852e-451a-f9c8-f1334d6617cc"
      },
      "cell_type": "code",
      "source": [
        "plt.clf()   # clear figure\n",
        "\n",
        "plt.plot(epochs, acc, 'bo', label='Training acc')\n",
        "plt.plot(epochs, val_acc, 'b', label='Validation acc')\n",
        "plt.title('Training and validation accuracy')\n",
        "plt.xlabel('Epochs')\n",
        "plt.ylabel('Accuracy')\n",
        "plt.legend()\n",
        "\n",
        "plt.show()"
      ],
      "execution_count": 18,
      "outputs": [
        {
          "output_type": "display_data",
          "data": {
            "image/png": "[encoded data removed]",
            "text/plain": [
              "<Figure size 576x396 with 1 Axes>"
            ]
          },
          "metadata": {
            "tags": []
          }
        }
      ]
    }
  ]
}